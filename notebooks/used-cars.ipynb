{
 "cells": [
  {
   "cell_type": "code",
   "execution_count": 1,
   "metadata": {},
   "outputs": [],
   "source": [
    "import os\n",
    "import sys\n",
    "import math\n",
    "import logging\n",
    "from pathlib import Path\n",
    "from datetime import datetime\n",
    "\n",
    "import numpy as np\n",
    "import scipy as sp\n",
    "from scipy import stats\n",
    "import sklearn\n",
    "from sklearn.ensemble import RandomForestRegressor\n",
    "from sklearn.model_selection import train_test_split, KFold\n",
    "\n",
    "%load_ext autoreload\n",
    "%autoreload 2\n",
    "\n",
    "import matplotlib as mpl\n",
    "import matplotlib.pyplot as plt\n",
    "%matplotlib inline\n",
    "%config InlineBackend.figure_format = 'retina'\n",
    "\n",
    "import seaborn as sns\n",
    "sns.set_context(\"poster\")\n",
    "sns.set(rc={'figure.figsize': (16, 9.)})\n",
    "sns.set_style(\"whitegrid\")\n",
    "\n",
    "import pandas as pd\n",
    "pd.set_option(\"display.max_rows\", 120)\n",
    "pd.set_option(\"display.max_columns\", 120)\n",
    "\n",
    "logging.basicConfig(level=logging.INFO, stream=sys.stdout)"
   ]
  },
  {
   "cell_type": "code",
   "execution_count": 2,
   "metadata": {},
   "outputs": [],
   "source": [
    "np.random.seed(42)"
   ]
  },
  {
   "cell_type": "markdown",
   "metadata": {},
   "source": [
    "# Honey, I shrunk the target variable!\n",
    "\n",
    "Read first the accompanying article on my [blog](https://florianwilhelm.info/2020/05/honey_i_shrunk_the_target_variable/) to understand what's going on here.\n",
    "\n",
    "Download the data from [Kaggle used-cars database](https://www.kaggle.com/orgesleka/used-cars-database), unzip it and put it under `../data/raw`"
   ]
  },
  {
   "cell_type": "code",
   "execution_count": 3,
   "metadata": {},
   "outputs": [
    {
     "name": "stdout",
     "output_type": "stream",
     "text": [
      "autos.csv\n"
     ]
    }
   ],
   "source": [
    "!ls ../data/raw/  # this should show \"autos.csv\""
   ]
  },
  {
   "cell_type": "code",
   "execution_count": 4,
   "metadata": {},
   "outputs": [],
   "source": [
    "data_dir = Path('../data/raw')\n",
    "autos_csv = data_dir / Path('autos.csv')"
   ]
  },
  {
   "cell_type": "code",
   "execution_count": 5,
   "metadata": {},
   "outputs": [
    {
     "name": "stdout",
     "output_type": "stream",
     "text": [
      "['dateCrawled', 'name', 'seller', 'offerType', 'price', 'abtest', 'vehicleType', 'yearOfRegistration', 'gearbox', 'powerPS', 'model', 'kilometer', 'monthOfRegistration', 'fuelType', 'brand', 'notRepairedDamage', 'dateCreated', 'nrOfPictures', 'postalCode', 'lastSeen']\n"
     ]
    }
   ],
   "source": [
    "df = pd.read_csv(autos_csv, encoding='cp850')\n",
    "print(list(df.columns))"
   ]
  },
  {
   "cell_type": "markdown",
   "metadata": {},
   "source": [
    "Let's concentrate only on working cars in a reasonable price range which are sold"
   ]
  },
  {
   "cell_type": "code",
   "execution_count": 6,
   "metadata": {},
   "outputs": [],
   "source": [
    "df = df.query('price <= 50_000 and notRepairedDamage == \"nein\" and price > 200 and offerType == \"Angebot\"')"
   ]
  },
  {
   "cell_type": "code",
   "execution_count": 7,
   "metadata": {},
   "outputs": [
    {
     "data": {
      "text/html": [
       "<div>\n",
       "<style scoped>\n",
       "    .dataframe tbody tr th:only-of-type {\n",
       "        vertical-align: middle;\n",
       "    }\n",
       "\n",
       "    .dataframe tbody tr th {\n",
       "        vertical-align: top;\n",
       "    }\n",
       "\n",
       "    .dataframe thead th {\n",
       "        text-align: right;\n",
       "    }\n",
       "</style>\n",
       "<table border=\"1\" class=\"dataframe\">\n",
       "  <thead>\n",
       "    <tr style=\"text-align: right;\">\n",
       "      <th></th>\n",
       "      <th>price</th>\n",
       "      <th>yearOfRegistration</th>\n",
       "      <th>powerPS</th>\n",
       "      <th>kilometer</th>\n",
       "      <th>monthOfRegistration</th>\n",
       "      <th>nrOfPictures</th>\n",
       "      <th>postalCode</th>\n",
       "    </tr>\n",
       "  </thead>\n",
       "  <tbody>\n",
       "    <tr>\n",
       "      <th>count</th>\n",
       "      <td>256640.000000</td>\n",
       "      <td>256640.000000</td>\n",
       "      <td>256640.000000</td>\n",
       "      <td>256640.000000</td>\n",
       "      <td>256640.000000</td>\n",
       "      <td>256640.0</td>\n",
       "      <td>256640.000000</td>\n",
       "    </tr>\n",
       "    <tr>\n",
       "      <th>mean</th>\n",
       "      <td>6704.024314</td>\n",
       "      <td>2004.127229</td>\n",
       "      <td>124.656901</td>\n",
       "      <td>123263.462438</td>\n",
       "      <td>6.166771</td>\n",
       "      <td>0.0</td>\n",
       "      <td>51630.454462</td>\n",
       "    </tr>\n",
       "    <tr>\n",
       "      <th>std</th>\n",
       "      <td>7174.017565</td>\n",
       "      <td>27.962960</td>\n",
       "      <td>162.600851</td>\n",
       "      <td>40189.158129</td>\n",
       "      <td>3.491749</td>\n",
       "      <td>0.0</td>\n",
       "      <td>25870.586593</td>\n",
       "    </tr>\n",
       "    <tr>\n",
       "      <th>min</th>\n",
       "      <td>205.000000</td>\n",
       "      <td>1000.000000</td>\n",
       "      <td>0.000000</td>\n",
       "      <td>5000.000000</td>\n",
       "      <td>0.000000</td>\n",
       "      <td>0.0</td>\n",
       "      <td>1067.000000</td>\n",
       "    </tr>\n",
       "    <tr>\n",
       "      <th>25%</th>\n",
       "      <td>1800.000000</td>\n",
       "      <td>2000.000000</td>\n",
       "      <td>75.000000</td>\n",
       "      <td>100000.000000</td>\n",
       "      <td>3.000000</td>\n",
       "      <td>0.0</td>\n",
       "      <td>31139.000000</td>\n",
       "    </tr>\n",
       "    <tr>\n",
       "      <th>50%</th>\n",
       "      <td>4100.000000</td>\n",
       "      <td>2004.000000</td>\n",
       "      <td>116.000000</td>\n",
       "      <td>150000.000000</td>\n",
       "      <td>6.000000</td>\n",
       "      <td>0.0</td>\n",
       "      <td>50823.000000</td>\n",
       "    </tr>\n",
       "    <tr>\n",
       "      <th>75%</th>\n",
       "      <td>8950.000000</td>\n",
       "      <td>2009.000000</td>\n",
       "      <td>150.000000</td>\n",
       "      <td>150000.000000</td>\n",
       "      <td>9.000000</td>\n",
       "      <td>0.0</td>\n",
       "      <td>72622.000000</td>\n",
       "    </tr>\n",
       "    <tr>\n",
       "      <th>max</th>\n",
       "      <td>50000.000000</td>\n",
       "      <td>9999.000000</td>\n",
       "      <td>20000.000000</td>\n",
       "      <td>150000.000000</td>\n",
       "      <td>12.000000</td>\n",
       "      <td>0.0</td>\n",
       "      <td>99998.000000</td>\n",
       "    </tr>\n",
       "  </tbody>\n",
       "</table>\n",
       "</div>"
      ],
      "text/plain": [
       "               price  yearOfRegistration        powerPS      kilometer  \\\n",
       "count  256640.000000       256640.000000  256640.000000  256640.000000   \n",
       "mean     6704.024314         2004.127229     124.656901  123263.462438   \n",
       "std      7174.017565           27.962960     162.600851   40189.158129   \n",
       "min       205.000000         1000.000000       0.000000    5000.000000   \n",
       "25%      1800.000000         2000.000000      75.000000  100000.000000   \n",
       "50%      4100.000000         2004.000000     116.000000  150000.000000   \n",
       "75%      8950.000000         2009.000000     150.000000  150000.000000   \n",
       "max     50000.000000         9999.000000   20000.000000  150000.000000   \n",
       "\n",
       "       monthOfRegistration  nrOfPictures     postalCode  \n",
       "count        256640.000000      256640.0  256640.000000  \n",
       "mean              6.166771           0.0   51630.454462  \n",
       "std               3.491749           0.0   25870.586593  \n",
       "min               0.000000           0.0    1067.000000  \n",
       "25%               3.000000           0.0   31139.000000  \n",
       "50%               6.000000           0.0   50823.000000  \n",
       "75%               9.000000           0.0   72622.000000  \n",
       "max              12.000000           0.0   99998.000000  "
      ]
     },
     "execution_count": 7,
     "metadata": {},
     "output_type": "execute_result"
    }
   ],
   "source": [
    "df.describe()"
   ]
  },
  {
   "cell_type": "code",
   "execution_count": 8,
   "metadata": {},
   "outputs": [],
   "source": [
    "# create 1000 Euro bins for price-ranges\n",
    "bins = 1000*np.arange(50)"
   ]
  },
  {
   "cell_type": "code",
   "execution_count": 9,
   "metadata": {},
   "outputs": [
    {
     "data": {
      "image/png": "[encoded data removed]",
      "text/plain": [
       "<Figure size 1152x648 with 1 Axes>"
      ]
     },
     "metadata": {
      "image/png": {
       "height": 538,
       "width": 956
      }
     },
     "output_type": "display_data"
    }
   ],
   "source": [
    "sns.distplot(df.price, bins=bins);"
   ]
  },
  {
   "cell_type": "markdown",
   "metadata": {},
   "source": [
    "The price looks definitely not normal distributed rather log-normal distributed. Let's check that visually.\n",
    "\n",
    "We fit a log-normal distribution, sample from it and see it it looks similar"
   ]
  },
  {
   "cell_type": "code",
   "execution_count": 10,
   "metadata": {},
   "outputs": [],
   "source": [
    "shape, loc, scale = stats.lognorm.fit(df.price, floc=0.)\n",
    "dist = stats.lognorm(shape, loc, scale)\n",
    "rvs = dist.rvs(100_000)"
   ]
  },
  {
   "cell_type": "code",
   "execution_count": 11,
   "metadata": {},
   "outputs": [
    {
     "data": {
      "image/png": "[encoded data removed]",
      "text/plain": [
       "<Figure size 1152x648 with 1 Axes>"
      ]
     },
     "metadata": {
      "image/png": {
       "height": 538,
       "width": 956
      }
     },
     "output_type": "display_data"
    }
   ],
   "source": [
    "sns.distplot(df.price, bins=bins, label='actual data')\n",
    "sns.distplot(rvs[rvs<50_000], bins=bins, label='log-normal')\n",
    "plt.legend();"
   ]
  },
  {
   "cell_type": "markdown",
   "metadata": {},
   "source": [
    "## Distribution of the target variable"
   ]
  },
  {
   "cell_type": "code",
   "execution_count": 12,
   "metadata": {},
   "outputs": [],
   "source": [
    "# Use some simple linear model to generate the target variable\n",
    "N = 10000\n",
    "x = np.random.randint(2, size=N)\n",
    "y = x + 0.3*np.random.randn(N)"
   ]
  },
  {
   "cell_type": "code",
   "execution_count": 13,
   "metadata": {},
   "outputs": [
    {
     "data": {
      "image/png": "[encoded data removed]",
      "text/plain": [
       "<Figure size 1152x648 with 1 Axes>"
      ]
     },
     "metadata": {
      "image/png": {
       "height": 523,
       "width": 938
      }
     },
     "output_type": "display_data"
    }
   ],
   "source": [
    "# Obviously, the outcome of a linear model doesn't have to be normally distributed.\n",
    "sns.distplot(y)\n",
    "plt.xlim(-2, 10);"
   ]
  },
  {
   "cell_type": "markdown",
   "metadata": {},
   "source": [
    "## Analysis of the residual distribution"
   ]
  },
  {
   "cell_type": "code",
   "execution_count": 14,
   "metadata": {},
   "outputs": [],
   "source": [
    "# All kinds of error measures we need\n",
    "\n",
    "def rmse(y_pred, y_true):\n",
    "    \"\"\"Root Mean Squared Error\"\"\"\n",
    "    # not taking the root, i.e. MSE, would not change the actual minimum point\n",
    "    return np.sqrt(np.mean((y_true - y_pred)**2))\n",
    "\n",
    "\n",
    "def mae(y_pred, y_true):\n",
    "    \"\"\"Mean Absolute Error\"\"\"\n",
    "    return np.mean(np.abs(y_true - y_pred))\n",
    "\n",
    "\n",
    "def mape(y_pred, y_true):\n",
    "    \"\"\"Mean Average Percentage Error\"\"\"\n",
    "    return np.mean(np.abs((y_true - y_pred)/y_true))\n",
    "\n",
    "\n",
    "def rmspe(y_pred, y_true):\n",
    "    \"\"\"Root Mean Squared Percentage Error\"\"\"\n",
    "    return np.sqrt(np.mean(((y_true - y_pred)/y_true)**2))"
   ]
  },
  {
   "cell_type": "code",
   "execution_count": 15,
   "metadata": {},
   "outputs": [],
   "source": [
    "y = df.price.to_numpy()"
   ]
  },
  {
   "cell_type": "code",
   "execution_count": 16,
   "metadata": {},
   "outputs": [
    {
     "data": {
      "text/plain": [
       "      fun: 7174.003600843465\n",
       " hess_inv: array([[7052.74958795]])\n",
       "      jac: array([0.])\n",
       "  message: 'Optimization terminated successfully.'\n",
       "     nfev: 36\n",
       "      nit: 5\n",
       "     njev: 12\n",
       "   status: 0\n",
       "  success: True\n",
       "        x: array([6703.59325181])"
      ]
     },
     "execution_count": 16,
     "metadata": {},
     "output_type": "execute_result"
    }
   ],
   "source": [
    "res = sp.optimize.minimize(rmse, 1., args=(y,))\n",
    "res"
   ]
  },
  {
   "cell_type": "code",
   "execution_count": 17,
   "metadata": {},
   "outputs": [
    {
     "data": {
      "text/plain": [
       "6704.024314214464"
      ]
     },
     "execution_count": 17,
     "metadata": {},
     "output_type": "execute_result"
    }
   ],
   "source": [
    "np.mean(y)"
   ]
  },
  {
   "cell_type": "code",
   "execution_count": 18,
   "metadata": {},
   "outputs": [
    {
     "data": {
      "text/plain": [
       "      fun: 4743.492333474732\n",
       " hess_inv: array([[7862.69627309]])\n",
       "      jac: array([-0.00018311])\n",
       "  message: 'Optimization terminated successfully.'\n",
       "     nfev: 120\n",
       "      nit: 8\n",
       "     njev: 40\n",
       "   status: 0\n",
       "  success: True\n",
       "        x: array([4099.9946168])"
      ]
     },
     "execution_count": 18,
     "metadata": {},
     "output_type": "execute_result"
    }
   ],
   "source": [
    "res = sp.optimize.minimize(mae, 1., options=dict(gtol=2e-4), args=(y,))\n",
    "res"
   ]
  },
  {
   "cell_type": "code",
   "execution_count": 19,
   "metadata": {},
   "outputs": [
    {
     "data": {
      "text/plain": [
       "4100.0"
      ]
     },
     "execution_count": 19,
     "metadata": {},
     "output_type": "execute_result"
    }
   ],
   "source": [
    "np.median(y)"
   ]
  },
  {
   "cell_type": "markdown",
   "metadata": {},
   "source": [
    "## Shrinking the target variable"
   ]
  },
  {
   "cell_type": "code",
   "execution_count": 20,
   "metadata": {},
   "outputs": [],
   "source": [
    "y_log = np.log(df.price.to_numpy())"
   ]
  },
  {
   "cell_type": "code",
   "execution_count": 21,
   "metadata": {},
   "outputs": [
    {
     "data": {
      "text/plain": [
       "      fun: 1.066675943730279\n",
       " hess_inv: array([[1.11749076]])\n",
       "      jac: array([0.])\n",
       "  message: 'Optimization terminated successfully.'\n",
       "     nfev: 30\n",
       "      nit: 5\n",
       "     njev: 10\n",
       "   status: 0\n",
       "  success: True\n",
       "        x: array([8.29160403])"
      ]
     },
     "execution_count": 21,
     "metadata": {},
     "output_type": "execute_result"
    }
   ],
   "source": [
    "res_y = sp.optimize.minimize(rmse, 8., args=(y_log,), tol=1e-16)\n",
    "res_y"
   ]
  },
  {
   "cell_type": "code",
   "execution_count": 22,
   "metadata": {},
   "outputs": [
    {
     "data": {
      "text/plain": [
       "array([3990.22949901])"
      ]
     },
     "execution_count": 22,
     "metadata": {},
     "output_type": "execute_result"
    }
   ],
   "source": [
    "np.exp(res_y.x)"
   ]
  },
  {
   "cell_type": "markdown",
   "metadata": {},
   "source": [
    "This value rather resembles the median of the original distribution.\n",
    "\n",
    "Let's see how it looks for our fitted log-normal distribution."
   ]
  },
  {
   "cell_type": "code",
   "execution_count": 23,
   "metadata": {},
   "outputs": [
    {
     "data": {
      "text/plain": [
       "4001.522966016775"
      ]
     },
     "execution_count": 23,
     "metadata": {},
     "output_type": "execute_result"
    }
   ],
   "source": [
    "np.median(rvs)"
   ]
  },
  {
   "cell_type": "code",
   "execution_count": 24,
   "metadata": {},
   "outputs": [
    {
     "data": {
      "text/plain": [
       "      fun: 1.0676369700030393\n",
       " hess_inv: array([[1.06764743]])\n",
       "      jac: array([0.])\n",
       "  message: 'Optimization terminated successfully.'\n",
       "     nfev: 30\n",
       "      nit: 5\n",
       "     njev: 10\n",
       "   status: 0\n",
       "  success: True\n",
       "        x: array([8.29263537])"
      ]
     },
     "execution_count": 24,
     "metadata": {},
     "output_type": "execute_result"
    }
   ],
   "source": [
    "rvs_log = np.log(rvs)\n",
    "res_rvs = sp.optimize.minimize(rmse, 1., args=(rvs_log,), tol=1e-10)\n",
    "res_rvs"
   ]
  },
  {
   "cell_type": "code",
   "execution_count": 25,
   "metadata": {},
   "outputs": [
    {
     "data": {
      "text/plain": [
       "array([3994.34689899])"
      ]
     },
     "execution_count": 25,
     "metadata": {},
     "output_type": "execute_result"
    }
   ],
   "source": [
    "np.exp(res_rvs.x)"
   ]
  },
  {
   "cell_type": "markdown",
   "metadata": {},
   "source": [
    "So it's even closer to the median of the original distribution!\n",
    "\n",
    "Let's calculate the mean of the original distrubtion using the transformed one."
   ]
  },
  {
   "cell_type": "code",
   "execution_count": 26,
   "metadata": {},
   "outputs": [
    {
     "data": {
      "text/plain": [
       "7048.025680339902"
      ]
     },
     "execution_count": 26,
     "metadata": {},
     "output_type": "execute_result"
    }
   ],
   "source": [
    "mu = res_y.x[0]\n",
    "sigma2 = rmse(mu, y_log)**2\n",
    "np.exp(mu + sigma2/2)"
   ]
  },
  {
   "cell_type": "markdown",
   "metadata": {},
   "source": [
    "which is now much closer to "
   ]
  },
  {
   "cell_type": "code",
   "execution_count": 27,
   "metadata": {},
   "outputs": [
    {
     "data": {
      "text/plain": [
       "6704.024314214464"
      ]
     },
     "execution_count": 27,
     "metadata": {},
     "output_type": "execute_result"
    }
   ],
   "source": [
    "np.mean(y)"
   ]
  },
  {
   "cell_type": "markdown",
   "metadata": {},
   "source": [
    "and for the log-normal distribution"
   ]
  },
  {
   "cell_type": "code",
   "execution_count": 28,
   "metadata": {},
   "outputs": [
    {
     "data": {
      "text/plain": [
       "7062.537711299532"
      ]
     },
     "execution_count": 28,
     "metadata": {},
     "output_type": "execute_result"
    }
   ],
   "source": [
    "mu = res_rvs.x[0]\n",
    "sigma2 = rmse(mu, rvs_log)**2\n",
    "np.exp(mu + sigma2/2)"
   ]
  },
  {
   "cell_type": "markdown",
   "metadata": {},
   "source": [
    "we get the expected value up to some error due to the sampling"
   ]
  },
  {
   "cell_type": "code",
   "execution_count": 29,
   "metadata": {},
   "outputs": [
    {
     "data": {
      "text/plain": [
       "7054.824096461791"
      ]
     },
     "execution_count": 29,
     "metadata": {},
     "output_type": "execute_result"
    }
   ],
   "source": [
    "np.mean(rvs)"
   ]
  },
  {
   "cell_type": "markdown",
   "metadata": {},
   "source": [
    "Let's do the same for MAPE. First for y:"
   ]
  },
  {
   "cell_type": "code",
   "execution_count": 30,
   "metadata": {},
   "outputs": [
    {
     "data": {
      "text/plain": [
       "      fun: 0.6969046987305233\n",
       " hess_inv: array([[0.00081973]])\n",
       "      jac: array([8.86619091e-07])\n",
       "  message: 'Desired error not necessarily achieved due to precision loss.'\n",
       "     nfev: 414\n",
       "      nit: 4\n",
       "     njev: 134\n",
       "   status: 2\n",
       "  success: False\n",
       "        x: array([1200.])"
      ]
     },
     "execution_count": 30,
     "metadata": {},
     "output_type": "execute_result"
    }
   ],
   "source": [
    "sp.optimize.minimize(mape, 1000., args=(y,), tol=1e-10)"
   ]
  },
  {
   "cell_type": "code",
   "execution_count": 31,
   "metadata": {},
   "outputs": [
    {
     "data": {
      "text/plain": [
       "1276.3430342548838"
      ]
     },
     "execution_count": 31,
     "metadata": {},
     "output_type": "execute_result"
    }
   ],
   "source": [
    "mu = res_y.x[0]\n",
    "sigma2 = rmse(mu, rvs_log)**2\n",
    "np.exp(mu - sigma2)"
   ]
  },
  {
   "cell_type": "markdown",
   "metadata": {},
   "source": [
    "and then for the log-normal distribution:"
   ]
  },
  {
   "cell_type": "code",
   "execution_count": 32,
   "metadata": {},
   "outputs": [
    {
     "data": {
      "text/plain": [
       "      fun: 0.7142317935544468\n",
       " hess_inv: array([[3761612.48424339]])\n",
       "      jac: array([0.])\n",
       "  message: 'Optimization terminated successfully.'\n",
       "     nfev: 75\n",
       "      nit: 6\n",
       "     njev: 25\n",
       "   status: 0\n",
       "  success: True\n",
       "        x: array([1275.3386318])"
      ]
     },
     "execution_count": 32,
     "metadata": {},
     "output_type": "execute_result"
    }
   ],
   "source": [
    "sp.optimize.minimize(mape, 1., args=(rvs,), tol=1e-10)"
   ]
  },
  {
   "cell_type": "code",
   "execution_count": 33,
   "metadata": {},
   "outputs": [
    {
     "data": {
      "text/plain": [
       "1277.6614139408068"
      ]
     },
     "execution_count": 33,
     "metadata": {},
     "output_type": "execute_result"
    }
   ],
   "source": [
    "mu = res_rvs.x[0]\n",
    "sigma2 = rmse(mu, rvs_log)**2\n",
    "np.exp(mu - sigma2)"
   ]
  },
  {
   "cell_type": "markdown",
   "metadata": {},
   "source": [
    "So we see that a correction of -sigma2 is needed to transform the minimum point of the log-transformed target back to get the minimum point of MAPE on the untransformed target."
   ]
  },
  {
   "cell_type": "markdown",
   "metadata": {},
   "source": [
    "## Transforming the target for fun and profit"
   ]
  },
  {
   "cell_type": "markdown",
   "metadata": {},
   "source": [
    "Shuffle the rows for KFold later"
   ]
  },
  {
   "cell_type": "code",
   "execution_count": 34,
   "metadata": {},
   "outputs": [],
   "source": [
    "# Decrease to trade accuracy for speed\n",
    "CV_SPLITS = 10\n",
    "FRACTION = 1.0"
   ]
  },
  {
   "cell_type": "code",
   "execution_count": 35,
   "metadata": {},
   "outputs": [],
   "source": [
    "# make this 1.0 later\n",
    "df = df.sample(frac=FRACTION).reset_index(drop=True)"
   ]
  },
  {
   "cell_type": "markdown",
   "metadata": {},
   "source": [
    "Merge year and month of registration and convert to timestamp"
   ]
  },
  {
   "cell_type": "code",
   "execution_count": 36,
   "metadata": {},
   "outputs": [],
   "source": [
    "df['monthOfRegistration'] = df['monthOfRegistration'].replace(0, 7)\n",
    "df['ageInYears'] = df[[\"yearOfRegistration\", \"monthOfRegistration\"]].apply(\n",
    "    lambda ds: (datetime(ds[\"yearOfRegistration\"], ds[\"monthOfRegistration\"], 1) - datetime.now()).days / 365, axis=1)\n",
    "df['mileageOverAge'] = df['kilometer'] / df['ageInYears']"
   ]
  },
  {
   "cell_type": "code",
   "execution_count": 37,
   "metadata": {},
   "outputs": [],
   "source": [
    "FEATURES = [\"vehicleType\", \n",
    "            \"ageInYears\",\n",
    "            \"mileageOverAge\",\n",
    "            \"gearbox\", \n",
    "            \"powerPS\",\n",
    "            \"model\",\n",
    "            \"kilometer\", \n",
    "            \"fuelType\",\n",
    "            \"brand\",\n",
    "            \"price\"]\n",
    "df = df[FEATURES].copy()"
   ]
  },
  {
   "cell_type": "code",
   "execution_count": 38,
   "metadata": {},
   "outputs": [],
   "source": [
    "for col, dtype in zip(df.columns, df.dtypes):\n",
    "    if dtype is np.dtype('O'):\n",
    "        df[col] = df[col].astype('category').cat.codes"
   ]
  },
  {
   "cell_type": "code",
   "execution_count": 39,
   "metadata": {},
   "outputs": [],
   "source": [
    "y = df['price'].to_numpy()\n",
    "X = df.drop(columns='price').to_numpy()"
   ]
  },
  {
   "cell_type": "code",
   "execution_count": 40,
   "metadata": {},
   "outputs": [],
   "source": [
    "METRICS = ['rmse', 'mae', 'mape', 'rmspe']"
   ]
  },
  {
   "cell_type": "code",
   "execution_count": 41,
   "metadata": {},
   "outputs": [],
   "source": [
    "def get_corr(y_true, y_pred_log, error_func):\n",
    "    \"\"\"Determine correction delta for exp transformation\"\"\"\n",
    "    res = sp.optimize.minimize(lambda delta: error_func(np.exp(delta + y_pred_log), y_true), 0.)\n",
    "    return res.x"
   ]
  },
  {
   "cell_type": "code",
   "execution_count": 42,
   "metadata": {},
   "outputs": [],
   "source": [
    "reg = RandomForestRegressor()\n",
    "results = []\n",
    "for i, (train_idx, test_idx) in enumerate(KFold(n_splits=CV_SPLITS).split(X)):\n",
    "    X_train, X_test = X[train_idx], X[test_idx]\n",
    "    y_train, y_test = y[train_idx], y[test_idx]\n",
    "    X_train, X_val, y_train, y_val = train_test_split(X_train, y_train)\n",
    "    \n",
    "    # raw untransformed target\n",
    "    reg.fit(X_train, y_train)\n",
    "    y_pred = reg.predict(X_test)\n",
    "    res = dict(target='raw',\n",
    "               split=i,\n",
    "               rmse=rmse(y_pred, y_test),\n",
    "               mae=mae(y_pred, y_test),\n",
    "               mape=mape(y_pred, y_test),\n",
    "               rmspe=rmspe(y_pred, y_test))\n",
    "    results.append(res)\n",
    "    \n",
    "    # log-transformed target\n",
    "    y_train_log = np.log(y_train)\n",
    "    reg.fit(X_train, y_train_log)\n",
    "    y_log_pred = reg.predict(X_test)\n",
    "    y_pred = np.exp(y_log_pred)\n",
    "    res = dict(target='log & no corr',\n",
    "               split=i,\n",
    "               rmse=rmse(y_pred, y_test),\n",
    "               mae=mae(y_pred, y_test),\n",
    "               mape=mape(y_pred, y_test),\n",
    "               rmspe=rmspe(y_pred, y_test))\n",
    "    results.append(res)\n",
    "    \n",
    "    # log-transformed target and sigma2 correction\n",
    "    y_val_log_pred = reg.predict(X_val)\n",
    "    sigma2 = rmse(y_val_log_pred, np.log(y_val))**2\n",
    "    res = dict(target='log & sigma2 corr',\n",
    "               split=i,\n",
    "               rmse=rmse(np.exp(y_log_pred + 0.5*sigma2), y_test),\n",
    "               mae=mae(np.exp(y_log_pred), y_test),\n",
    "               mape=mape(np.exp(y_log_pred - sigma2), y_test),\n",
    "               rmspe=rmspe(np.exp(y_log_pred - 1.5*sigma2), y_test))\n",
    "    results.append(res)\n",
    "    \n",
    "    # log-transformed target and fitted correction\n",
    "    res = dict(target='log & fitted corr',\n",
    "               split=i,\n",
    "               rmse=rmse(np.exp(y_log_pred + get_corr(y_val, y_val_log_pred, rmse)), y_test),\n",
    "               mae=mae(np.exp(y_log_pred + get_corr(y_val, y_val_log_pred, mae)), y_test),\n",
    "               mape=mape(np.exp(y_log_pred + get_corr(y_val, y_val_log_pred, mape)), y_test),\n",
    "               rmspe=rmspe(np.exp(y_log_pred + get_corr(y_val, y_val_log_pred, rmspe)), y_test))\n",
    "    results.append(res)\n",
    "\n",
    "    \n",
    "df = pd.DataFrame(results, columns=['split', 'target', *METRICS])"
   ]
  },
  {
   "cell_type": "code",
   "execution_count": 43,
   "metadata": {},
   "outputs": [
    {
     "data": {
      "text/html": [
       "<div>\n",
       "<style scoped>\n",
       "    .dataframe tbody tr th:only-of-type {\n",
       "        vertical-align: middle;\n",
       "    }\n",
       "\n",
       "    .dataframe tbody tr th {\n",
       "        vertical-align: top;\n",
       "    }\n",
       "\n",
       "    .dataframe thead th {\n",
       "        text-align: right;\n",
       "    }\n",
       "</style>\n",
       "<table border=\"1\" class=\"dataframe\">\n",
       "  <thead>\n",
       "    <tr style=\"text-align: right;\">\n",
       "      <th></th>\n",
       "      <th>split</th>\n",
       "      <th>target</th>\n",
       "      <th>rmse</th>\n",
       "      <th>mae</th>\n",
       "      <th>mape</th>\n",
       "      <th>rmspe</th>\n",
       "    </tr>\n",
       "  </thead>\n",
       "  <tbody>\n",
       "    <tr>\n",
       "      <th>0</th>\n",
       "      <td>0</td>\n",
       "      <td>raw</td>\n",
       "      <td>2376.687477</td>\n",
       "      <td>1277.892725</td>\n",
       "      <td>0.351623</td>\n",
       "      <td>1.402544</td>\n",
       "    </tr>\n",
       "    <tr>\n",
       "      <th>1</th>\n",
       "      <td>0</td>\n",
       "      <td>log &amp; no corr</td>\n",
       "      <td>2456.981889</td>\n",
       "      <td>1262.119946</td>\n",
       "      <td>0.303494</td>\n",
       "      <td>1.212133</td>\n",
       "    </tr>\n",
       "    <tr>\n",
       "      <th>2</th>\n",
       "      <td>0</td>\n",
       "      <td>log &amp; sigma2 corr</td>\n",
       "      <td>2475.667977</td>\n",
       "      <td>1262.119946</td>\n",
       "      <td>0.302080</td>\n",
       "      <td>0.976834</td>\n",
       "    </tr>\n",
       "    <tr>\n",
       "      <th>3</th>\n",
       "      <td>0</td>\n",
       "      <td>log &amp; fitted corr</td>\n",
       "      <td>2440.388803</td>\n",
       "      <td>1260.425009</td>\n",
       "      <td>0.294991</td>\n",
       "      <td>0.740349</td>\n",
       "    </tr>\n",
       "    <tr>\n",
       "      <th>4</th>\n",
       "      <td>1</td>\n",
       "      <td>raw</td>\n",
       "      <td>2330.468963</td>\n",
       "      <td>1255.436421</td>\n",
       "      <td>0.346038</td>\n",
       "      <td>1.270573</td>\n",
       "    </tr>\n",
       "    <tr>\n",
       "      <th>5</th>\n",
       "      <td>1</td>\n",
       "      <td>log &amp; no corr</td>\n",
       "      <td>2409.880320</td>\n",
       "      <td>1246.056422</td>\n",
       "      <td>0.301652</td>\n",
       "      <td>1.108160</td>\n",
       "    </tr>\n",
       "    <tr>\n",
       "      <th>6</th>\n",
       "      <td>1</td>\n",
       "      <td>log &amp; sigma2 corr</td>\n",
       "      <td>2437.463760</td>\n",
       "      <td>1246.056422</td>\n",
       "      <td>0.302059</td>\n",
       "      <td>0.890653</td>\n",
       "    </tr>\n",
       "    <tr>\n",
       "      <th>7</th>\n",
       "      <td>1</td>\n",
       "      <td>log &amp; fitted corr</td>\n",
       "      <td>2395.109058</td>\n",
       "      <td>1244.228867</td>\n",
       "      <td>0.293522</td>\n",
       "      <td>0.725838</td>\n",
       "    </tr>\n",
       "    <tr>\n",
       "      <th>8</th>\n",
       "      <td>2</td>\n",
       "      <td>raw</td>\n",
       "      <td>2384.851274</td>\n",
       "      <td>1269.237492</td>\n",
       "      <td>0.342760</td>\n",
       "      <td>1.400268</td>\n",
       "    </tr>\n",
       "    <tr>\n",
       "      <th>9</th>\n",
       "      <td>2</td>\n",
       "      <td>log &amp; no corr</td>\n",
       "      <td>2450.920761</td>\n",
       "      <td>1258.126201</td>\n",
       "      <td>0.299086</td>\n",
       "      <td>1.216544</td>\n",
       "    </tr>\n",
       "    <tr>\n",
       "      <th>10</th>\n",
       "      <td>2</td>\n",
       "      <td>log &amp; sigma2 corr</td>\n",
       "      <td>2463.167184</td>\n",
       "      <td>1258.126201</td>\n",
       "      <td>0.300147</td>\n",
       "      <td>0.983921</td>\n",
       "    </tr>\n",
       "    <tr>\n",
       "      <th>11</th>\n",
       "      <td>2</td>\n",
       "      <td>log &amp; fitted corr</td>\n",
       "      <td>2432.184449</td>\n",
       "      <td>1256.132600</td>\n",
       "      <td>0.291878</td>\n",
       "      <td>0.758403</td>\n",
       "    </tr>\n",
       "    <tr>\n",
       "      <th>12</th>\n",
       "      <td>3</td>\n",
       "      <td>raw</td>\n",
       "      <td>2359.053666</td>\n",
       "      <td>1264.018201</td>\n",
       "      <td>0.361004</td>\n",
       "      <td>1.701004</td>\n",
       "    </tr>\n",
       "    <tr>\n",
       "      <th>13</th>\n",
       "      <td>3</td>\n",
       "      <td>log &amp; no corr</td>\n",
       "      <td>2441.694556</td>\n",
       "      <td>1244.173641</td>\n",
       "      <td>0.310867</td>\n",
       "      <td>1.392688</td>\n",
       "    </tr>\n",
       "    <tr>\n",
       "      <th>14</th>\n",
       "      <td>3</td>\n",
       "      <td>log &amp; sigma2 corr</td>\n",
       "      <td>2458.015021</td>\n",
       "      <td>1244.173641</td>\n",
       "      <td>0.309001</td>\n",
       "      <td>1.118071</td>\n",
       "    </tr>\n",
       "    <tr>\n",
       "      <th>15</th>\n",
       "      <td>3</td>\n",
       "      <td>log &amp; fitted corr</td>\n",
       "      <td>2423.685965</td>\n",
       "      <td>1241.867284</td>\n",
       "      <td>0.301816</td>\n",
       "      <td>0.783185</td>\n",
       "    </tr>\n",
       "    <tr>\n",
       "      <th>16</th>\n",
       "      <td>4</td>\n",
       "      <td>raw</td>\n",
       "      <td>2362.693911</td>\n",
       "      <td>1268.089424</td>\n",
       "      <td>0.347647</td>\n",
       "      <td>1.496413</td>\n",
       "    </tr>\n",
       "    <tr>\n",
       "      <th>17</th>\n",
       "      <td>4</td>\n",
       "      <td>log &amp; no corr</td>\n",
       "      <td>2379.759808</td>\n",
       "      <td>1246.087534</td>\n",
       "      <td>0.302484</td>\n",
       "      <td>1.330443</td>\n",
       "    </tr>\n",
       "    <tr>\n",
       "      <th>18</th>\n",
       "      <td>4</td>\n",
       "      <td>log &amp; sigma2 corr</td>\n",
       "      <td>2411.514683</td>\n",
       "      <td>1246.087534</td>\n",
       "      <td>0.302709</td>\n",
       "      <td>1.068992</td>\n",
       "    </tr>\n",
       "    <tr>\n",
       "      <th>19</th>\n",
       "      <td>4</td>\n",
       "      <td>log &amp; fitted corr</td>\n",
       "      <td>2366.971110</td>\n",
       "      <td>1244.200225</td>\n",
       "      <td>0.294436</td>\n",
       "      <td>0.771422</td>\n",
       "    </tr>\n",
       "    <tr>\n",
       "      <th>20</th>\n",
       "      <td>5</td>\n",
       "      <td>raw</td>\n",
       "      <td>2460.794090</td>\n",
       "      <td>1296.233632</td>\n",
       "      <td>0.362398</td>\n",
       "      <td>1.831119</td>\n",
       "    </tr>\n",
       "    <tr>\n",
       "      <th>21</th>\n",
       "      <td>5</td>\n",
       "      <td>log &amp; no corr</td>\n",
       "      <td>2542.618691</td>\n",
       "      <td>1288.924370</td>\n",
       "      <td>0.319615</td>\n",
       "      <td>1.689925</td>\n",
       "    </tr>\n",
       "    <tr>\n",
       "      <th>22</th>\n",
       "      <td>5</td>\n",
       "      <td>log &amp; sigma2 corr</td>\n",
       "      <td>2575.153319</td>\n",
       "      <td>1288.924370</td>\n",
       "      <td>0.315286</td>\n",
       "      <td>1.355121</td>\n",
       "    </tr>\n",
       "    <tr>\n",
       "      <th>23</th>\n",
       "      <td>5</td>\n",
       "      <td>log &amp; fitted corr</td>\n",
       "      <td>2531.499728</td>\n",
       "      <td>1288.409326</td>\n",
       "      <td>0.309333</td>\n",
       "      <td>0.876451</td>\n",
       "    </tr>\n",
       "    <tr>\n",
       "      <th>24</th>\n",
       "      <td>6</td>\n",
       "      <td>raw</td>\n",
       "      <td>2323.322680</td>\n",
       "      <td>1248.716879</td>\n",
       "      <td>0.345875</td>\n",
       "      <td>1.494078</td>\n",
       "    </tr>\n",
       "    <tr>\n",
       "      <th>25</th>\n",
       "      <td>6</td>\n",
       "      <td>log &amp; no corr</td>\n",
       "      <td>2390.679088</td>\n",
       "      <td>1235.088299</td>\n",
       "      <td>0.297821</td>\n",
       "      <td>1.091460</td>\n",
       "    </tr>\n",
       "    <tr>\n",
       "      <th>26</th>\n",
       "      <td>6</td>\n",
       "      <td>log &amp; sigma2 corr</td>\n",
       "      <td>2415.319990</td>\n",
       "      <td>1235.088299</td>\n",
       "      <td>0.297928</td>\n",
       "      <td>0.877612</td>\n",
       "    </tr>\n",
       "    <tr>\n",
       "      <th>27</th>\n",
       "      <td>6</td>\n",
       "      <td>log &amp; fitted corr</td>\n",
       "      <td>2374.882661</td>\n",
       "      <td>1233.343388</td>\n",
       "      <td>0.289570</td>\n",
       "      <td>0.715871</td>\n",
       "    </tr>\n",
       "    <tr>\n",
       "      <th>28</th>\n",
       "      <td>7</td>\n",
       "      <td>raw</td>\n",
       "      <td>2407.062280</td>\n",
       "      <td>1259.859171</td>\n",
       "      <td>0.354407</td>\n",
       "      <td>1.510409</td>\n",
       "    </tr>\n",
       "    <tr>\n",
       "      <th>29</th>\n",
       "      <td>7</td>\n",
       "      <td>log &amp; no corr</td>\n",
       "      <td>2453.236338</td>\n",
       "      <td>1242.080361</td>\n",
       "      <td>0.306912</td>\n",
       "      <td>1.281733</td>\n",
       "    </tr>\n",
       "    <tr>\n",
       "      <th>30</th>\n",
       "      <td>7</td>\n",
       "      <td>log &amp; sigma2 corr</td>\n",
       "      <td>2486.076580</td>\n",
       "      <td>1242.080361</td>\n",
       "      <td>0.305219</td>\n",
       "      <td>1.030758</td>\n",
       "    </tr>\n",
       "    <tr>\n",
       "      <th>31</th>\n",
       "      <td>7</td>\n",
       "      <td>log &amp; fitted corr</td>\n",
       "      <td>2441.754567</td>\n",
       "      <td>1241.510072</td>\n",
       "      <td>0.297854</td>\n",
       "      <td>0.772769</td>\n",
       "    </tr>\n",
       "    <tr>\n",
       "      <th>32</th>\n",
       "      <td>8</td>\n",
       "      <td>raw</td>\n",
       "      <td>2339.400982</td>\n",
       "      <td>1249.143467</td>\n",
       "      <td>0.346075</td>\n",
       "      <td>1.529120</td>\n",
       "    </tr>\n",
       "    <tr>\n",
       "      <th>33</th>\n",
       "      <td>8</td>\n",
       "      <td>log &amp; no corr</td>\n",
       "      <td>2413.720850</td>\n",
       "      <td>1237.555036</td>\n",
       "      <td>0.301784</td>\n",
       "      <td>1.359506</td>\n",
       "    </tr>\n",
       "    <tr>\n",
       "      <th>34</th>\n",
       "      <td>8</td>\n",
       "      <td>log &amp; sigma2 corr</td>\n",
       "      <td>2444.442704</td>\n",
       "      <td>1237.555036</td>\n",
       "      <td>0.303482</td>\n",
       "      <td>1.086263</td>\n",
       "    </tr>\n",
       "    <tr>\n",
       "      <th>35</th>\n",
       "      <td>8</td>\n",
       "      <td>log &amp; fitted corr</td>\n",
       "      <td>2399.043438</td>\n",
       "      <td>1235.669929</td>\n",
       "      <td>0.294153</td>\n",
       "      <td>0.779493</td>\n",
       "    </tr>\n",
       "    <tr>\n",
       "      <th>36</th>\n",
       "      <td>9</td>\n",
       "      <td>raw</td>\n",
       "      <td>2393.237194</td>\n",
       "      <td>1272.658355</td>\n",
       "      <td>0.341960</td>\n",
       "      <td>1.381321</td>\n",
       "    </tr>\n",
       "    <tr>\n",
       "      <th>37</th>\n",
       "      <td>9</td>\n",
       "      <td>log &amp; no corr</td>\n",
       "      <td>2470.128241</td>\n",
       "      <td>1263.965282</td>\n",
       "      <td>0.298355</td>\n",
       "      <td>1.256015</td>\n",
       "    </tr>\n",
       "    <tr>\n",
       "      <th>38</th>\n",
       "      <td>9</td>\n",
       "      <td>log &amp; sigma2 corr</td>\n",
       "      <td>2474.713044</td>\n",
       "      <td>1263.965282</td>\n",
       "      <td>0.298897</td>\n",
       "      <td>1.016578</td>\n",
       "    </tr>\n",
       "    <tr>\n",
       "      <th>39</th>\n",
       "      <td>9</td>\n",
       "      <td>log &amp; fitted corr</td>\n",
       "      <td>2448.229326</td>\n",
       "      <td>1261.670907</td>\n",
       "      <td>0.290889</td>\n",
       "      <td>0.760611</td>\n",
       "    </tr>\n",
       "  </tbody>\n",
       "</table>\n",
       "</div>"
      ],
      "text/plain": [
       "    split             target         rmse          mae      mape     rmspe\n",
       "0       0                raw  2376.687477  1277.892725  0.351623  1.402544\n",
       "1       0      log & no corr  2456.981889  1262.119946  0.303494  1.212133\n",
       "2       0  log & sigma2 corr  2475.667977  1262.119946  0.302080  0.976834\n",
       "3       0  log & fitted corr  2440.388803  1260.425009  0.294991  0.740349\n",
       "4       1                raw  2330.468963  1255.436421  0.346038  1.270573\n",
       "5       1      log & no corr  2409.880320  1246.056422  0.301652  1.108160\n",
       "6       1  log & sigma2 corr  2437.463760  1246.056422  0.302059  0.890653\n",
       "7       1  log & fitted corr  2395.109058  1244.228867  0.293522  0.725838\n",
       "8       2                raw  2384.851274  1269.237492  0.342760  1.400268\n",
       "9       2      log & no corr  2450.920761  1258.126201  0.299086  1.216544\n",
       "10      2  log & sigma2 corr  2463.167184  1258.126201  0.300147  0.983921\n",
       "11      2  log & fitted corr  2432.184449  1256.132600  0.291878  0.758403\n",
       "12      3                raw  2359.053666  1264.018201  0.361004  1.701004\n",
       "13      3      log & no corr  2441.694556  1244.173641  0.310867  1.392688\n",
       "14      3  log & sigma2 corr  2458.015021  1244.173641  0.309001  1.118071\n",
       "15      3  log & fitted corr  2423.685965  1241.867284  0.301816  0.783185\n",
       "16      4                raw  2362.693911  1268.089424  0.347647  1.496413\n",
       "17      4      log & no corr  2379.759808  1246.087534  0.302484  1.330443\n",
       "18      4  log & sigma2 corr  2411.514683  1246.087534  0.302709  1.068992\n",
       "19      4  log & fitted corr  2366.971110  1244.200225  0.294436  0.771422\n",
       "20      5                raw  2460.794090  1296.233632  0.362398  1.831119\n",
       "21      5      log & no corr  2542.618691  1288.924370  0.319615  1.689925\n",
       "22      5  log & sigma2 corr  2575.153319  1288.924370  0.315286  1.355121\n",
       "23      5  log & fitted corr  2531.499728  1288.409326  0.309333  0.876451\n",
       "24      6                raw  2323.322680  1248.716879  0.345875  1.494078\n",
       "25      6      log & no corr  2390.679088  1235.088299  0.297821  1.091460\n",
       "26      6  log & sigma2 corr  2415.319990  1235.088299  0.297928  0.877612\n",
       "27      6  log & fitted corr  2374.882661  1233.343388  0.289570  0.715871\n",
       "28      7                raw  2407.062280  1259.859171  0.354407  1.510409\n",
       "29      7      log & no corr  2453.236338  1242.080361  0.306912  1.281733\n",
       "30      7  log & sigma2 corr  2486.076580  1242.080361  0.305219  1.030758\n",
       "31      7  log & fitted corr  2441.754567  1241.510072  0.297854  0.772769\n",
       "32      8                raw  2339.400982  1249.143467  0.346075  1.529120\n",
       "33      8      log & no corr  2413.720850  1237.555036  0.301784  1.359506\n",
       "34      8  log & sigma2 corr  2444.442704  1237.555036  0.303482  1.086263\n",
       "35      8  log & fitted corr  2399.043438  1235.669929  0.294153  0.779493\n",
       "36      9                raw  2393.237194  1272.658355  0.341960  1.381321\n",
       "37      9      log & no corr  2470.128241  1263.965282  0.298355  1.256015\n",
       "38      9  log & sigma2 corr  2474.713044  1263.965282  0.298897  1.016578\n",
       "39      9  log & fitted corr  2448.229326  1261.670907  0.290889  0.760611"
      ]
     },
     "execution_count": 43,
     "metadata": {},
     "output_type": "execute_result"
    }
   ],
   "source": [
    "df"
   ]
  },
  {
   "cell_type": "code",
   "execution_count": 44,
   "metadata": {},
   "outputs": [],
   "source": [
    "rel_df = (df.groupby('split')\n",
    "            .apply(lambda X: (X[METRICS].iloc[1:] / X[METRICS].iloc[0] - 1.)\n",
    "                             .set_index(X['target'].iloc[1:]))\n",
    "         )"
   ]
  },
  {
   "cell_type": "code",
   "execution_count": 45,
   "metadata": {},
   "outputs": [
    {
     "data": {
      "text/html": [
       "<div>\n",
       "<style scoped>\n",
       "    .dataframe tbody tr th:only-of-type {\n",
       "        vertical-align: middle;\n",
       "    }\n",
       "\n",
       "    .dataframe tbody tr th {\n",
       "        vertical-align: top;\n",
       "    }\n",
       "\n",
       "    .dataframe thead th {\n",
       "        text-align: right;\n",
       "    }\n",
       "</style>\n",
       "<table border=\"1\" class=\"dataframe\">\n",
       "  <thead>\n",
       "    <tr style=\"text-align: right;\">\n",
       "      <th></th>\n",
       "      <th></th>\n",
       "      <th>rmse</th>\n",
       "      <th>mae</th>\n",
       "      <th>mape</th>\n",
       "      <th>rmspe</th>\n",
       "    </tr>\n",
       "    <tr>\n",
       "      <th>split</th>\n",
       "      <th>target</th>\n",
       "      <th></th>\n",
       "      <th></th>\n",
       "      <th></th>\n",
       "      <th></th>\n",
       "    </tr>\n",
       "  </thead>\n",
       "  <tbody>\n",
       "    <tr>\n",
       "      <th rowspan=\"3\" valign=\"top\">0</th>\n",
       "      <th>log &amp; no corr</th>\n",
       "      <td>+3.38%</td>\n",
       "      <td>-1.23%</td>\n",
       "      <td>-13.69%</td>\n",
       "      <td>-13.58%</td>\n",
       "    </tr>\n",
       "    <tr>\n",
       "      <th>log &amp; sigma2 corr</th>\n",
       "      <td>+4.16%</td>\n",
       "      <td>-1.23%</td>\n",
       "      <td>-14.09%</td>\n",
       "      <td>-30.35%</td>\n",
       "    </tr>\n",
       "    <tr>\n",
       "      <th>log &amp; fitted corr</th>\n",
       "      <td>+2.68%</td>\n",
       "      <td>-1.37%</td>\n",
       "      <td>-16.11%</td>\n",
       "      <td>-47.21%</td>\n",
       "    </tr>\n",
       "    <tr>\n",
       "      <th rowspan=\"3\" valign=\"top\">1</th>\n",
       "      <th>log &amp; no corr</th>\n",
       "      <td>+3.41%</td>\n",
       "      <td>-0.75%</td>\n",
       "      <td>-12.83%</td>\n",
       "      <td>-12.78%</td>\n",
       "    </tr>\n",
       "    <tr>\n",
       "      <th>log &amp; sigma2 corr</th>\n",
       "      <td>+4.59%</td>\n",
       "      <td>-0.75%</td>\n",
       "      <td>-12.71%</td>\n",
       "      <td>-29.90%</td>\n",
       "    </tr>\n",
       "    <tr>\n",
       "      <th>log &amp; fitted corr</th>\n",
       "      <td>+2.77%</td>\n",
       "      <td>-0.89%</td>\n",
       "      <td>-15.18%</td>\n",
       "      <td>-42.87%</td>\n",
       "    </tr>\n",
       "    <tr>\n",
       "      <th rowspan=\"3\" valign=\"top\">2</th>\n",
       "      <th>log &amp; no corr</th>\n",
       "      <td>+2.77%</td>\n",
       "      <td>-0.88%</td>\n",
       "      <td>-12.74%</td>\n",
       "      <td>-13.12%</td>\n",
       "    </tr>\n",
       "    <tr>\n",
       "      <th>log &amp; sigma2 corr</th>\n",
       "      <td>+3.28%</td>\n",
       "      <td>-0.88%</td>\n",
       "      <td>-12.43%</td>\n",
       "      <td>-29.73%</td>\n",
       "    </tr>\n",
       "    <tr>\n",
       "      <th>log &amp; fitted corr</th>\n",
       "      <td>+1.98%</td>\n",
       "      <td>-1.03%</td>\n",
       "      <td>-14.84%</td>\n",
       "      <td>-45.84%</td>\n",
       "    </tr>\n",
       "    <tr>\n",
       "      <th rowspan=\"3\" valign=\"top\">3</th>\n",
       "      <th>log &amp; no corr</th>\n",
       "      <td>+3.50%</td>\n",
       "      <td>-1.57%</td>\n",
       "      <td>-13.89%</td>\n",
       "      <td>-18.13%</td>\n",
       "    </tr>\n",
       "    <tr>\n",
       "      <th>log &amp; sigma2 corr</th>\n",
       "      <td>+4.19%</td>\n",
       "      <td>-1.57%</td>\n",
       "      <td>-14.40%</td>\n",
       "      <td>-34.27%</td>\n",
       "    </tr>\n",
       "    <tr>\n",
       "      <th>log &amp; fitted corr</th>\n",
       "      <td>+2.74%</td>\n",
       "      <td>-1.75%</td>\n",
       "      <td>-16.40%</td>\n",
       "      <td>-53.96%</td>\n",
       "    </tr>\n",
       "    <tr>\n",
       "      <th rowspan=\"3\" valign=\"top\">4</th>\n",
       "      <th>log &amp; no corr</th>\n",
       "      <td>+0.72%</td>\n",
       "      <td>-1.74%</td>\n",
       "      <td>-12.99%</td>\n",
       "      <td>-11.09%</td>\n",
       "    </tr>\n",
       "    <tr>\n",
       "      <th>log &amp; sigma2 corr</th>\n",
       "      <td>+2.07%</td>\n",
       "      <td>-1.74%</td>\n",
       "      <td>-12.93%</td>\n",
       "      <td>-28.56%</td>\n",
       "    </tr>\n",
       "    <tr>\n",
       "      <th>log &amp; fitted corr</th>\n",
       "      <td>+0.18%</td>\n",
       "      <td>-1.88%</td>\n",
       "      <td>-15.31%</td>\n",
       "      <td>-48.45%</td>\n",
       "    </tr>\n",
       "    <tr>\n",
       "      <th rowspan=\"3\" valign=\"top\">5</th>\n",
       "      <th>log &amp; no corr</th>\n",
       "      <td>+3.33%</td>\n",
       "      <td>-0.56%</td>\n",
       "      <td>-11.81%</td>\n",
       "      <td>-7.71%</td>\n",
       "    </tr>\n",
       "    <tr>\n",
       "      <th>log &amp; sigma2 corr</th>\n",
       "      <td>+4.65%</td>\n",
       "      <td>-0.56%</td>\n",
       "      <td>-13.00%</td>\n",
       "      <td>-25.99%</td>\n",
       "    </tr>\n",
       "    <tr>\n",
       "      <th>log &amp; fitted corr</th>\n",
       "      <td>+2.87%</td>\n",
       "      <td>-0.60%</td>\n",
       "      <td>-14.64%</td>\n",
       "      <td>-52.14%</td>\n",
       "    </tr>\n",
       "    <tr>\n",
       "      <th rowspan=\"3\" valign=\"top\">6</th>\n",
       "      <th>log &amp; no corr</th>\n",
       "      <td>+2.90%</td>\n",
       "      <td>-1.09%</td>\n",
       "      <td>-13.89%</td>\n",
       "      <td>-26.95%</td>\n",
       "    </tr>\n",
       "    <tr>\n",
       "      <th>log &amp; sigma2 corr</th>\n",
       "      <td>+3.96%</td>\n",
       "      <td>-1.09%</td>\n",
       "      <td>-13.86%</td>\n",
       "      <td>-41.26%</td>\n",
       "    </tr>\n",
       "    <tr>\n",
       "      <th>log &amp; fitted corr</th>\n",
       "      <td>+2.22%</td>\n",
       "      <td>-1.23%</td>\n",
       "      <td>-16.28%</td>\n",
       "      <td>-52.09%</td>\n",
       "    </tr>\n",
       "    <tr>\n",
       "      <th rowspan=\"3\" valign=\"top\">7</th>\n",
       "      <th>log &amp; no corr</th>\n",
       "      <td>+1.92%</td>\n",
       "      <td>-1.41%</td>\n",
       "      <td>-13.40%</td>\n",
       "      <td>-15.14%</td>\n",
       "    </tr>\n",
       "    <tr>\n",
       "      <th>log &amp; sigma2 corr</th>\n",
       "      <td>+3.28%</td>\n",
       "      <td>-1.41%</td>\n",
       "      <td>-13.88%</td>\n",
       "      <td>-31.76%</td>\n",
       "    </tr>\n",
       "    <tr>\n",
       "      <th>log &amp; fitted corr</th>\n",
       "      <td>+1.44%</td>\n",
       "      <td>-1.46%</td>\n",
       "      <td>-15.96%</td>\n",
       "      <td>-48.84%</td>\n",
       "    </tr>\n",
       "    <tr>\n",
       "      <th rowspan=\"3\" valign=\"top\">8</th>\n",
       "      <th>log &amp; no corr</th>\n",
       "      <td>+3.18%</td>\n",
       "      <td>-0.93%</td>\n",
       "      <td>-12.80%</td>\n",
       "      <td>-11.09%</td>\n",
       "    </tr>\n",
       "    <tr>\n",
       "      <th>log &amp; sigma2 corr</th>\n",
       "      <td>+4.49%</td>\n",
       "      <td>-0.93%</td>\n",
       "      <td>-12.31%</td>\n",
       "      <td>-28.96%</td>\n",
       "    </tr>\n",
       "    <tr>\n",
       "      <th>log &amp; fitted corr</th>\n",
       "      <td>+2.55%</td>\n",
       "      <td>-1.08%</td>\n",
       "      <td>-15.00%</td>\n",
       "      <td>-49.02%</td>\n",
       "    </tr>\n",
       "    <tr>\n",
       "      <th rowspan=\"3\" valign=\"top\">9</th>\n",
       "      <th>log &amp; no corr</th>\n",
       "      <td>+3.21%</td>\n",
       "      <td>-0.68%</td>\n",
       "      <td>-12.75%</td>\n",
       "      <td>-9.07%</td>\n",
       "    </tr>\n",
       "    <tr>\n",
       "      <th>log &amp; sigma2 corr</th>\n",
       "      <td>+3.40%</td>\n",
       "      <td>-0.68%</td>\n",
       "      <td>-12.59%</td>\n",
       "      <td>-26.41%</td>\n",
       "    </tr>\n",
       "    <tr>\n",
       "      <th>log &amp; fitted corr</th>\n",
       "      <td>+2.30%</td>\n",
       "      <td>-0.86%</td>\n",
       "      <td>-14.93%</td>\n",
       "      <td>-44.94%</td>\n",
       "    </tr>\n",
       "  </tbody>\n",
       "</table>\n",
       "</div>"
      ],
      "text/plain": [
       "                           rmse     mae     mape    rmspe\n",
       "split target                                             \n",
       "0     log & no corr      +3.38%  -1.23%  -13.69%  -13.58%\n",
       "      log & sigma2 corr  +4.16%  -1.23%  -14.09%  -30.35%\n",
       "      log & fitted corr  +2.68%  -1.37%  -16.11%  -47.21%\n",
       "1     log & no corr      +3.41%  -0.75%  -12.83%  -12.78%\n",
       "      log & sigma2 corr  +4.59%  -0.75%  -12.71%  -29.90%\n",
       "      log & fitted corr  +2.77%  -0.89%  -15.18%  -42.87%\n",
       "2     log & no corr      +2.77%  -0.88%  -12.74%  -13.12%\n",
       "      log & sigma2 corr  +3.28%  -0.88%  -12.43%  -29.73%\n",
       "      log & fitted corr  +1.98%  -1.03%  -14.84%  -45.84%\n",
       "3     log & no corr      +3.50%  -1.57%  -13.89%  -18.13%\n",
       "      log & sigma2 corr  +4.19%  -1.57%  -14.40%  -34.27%\n",
       "      log & fitted corr  +2.74%  -1.75%  -16.40%  -53.96%\n",
       "4     log & no corr      +0.72%  -1.74%  -12.99%  -11.09%\n",
       "      log & sigma2 corr  +2.07%  -1.74%  -12.93%  -28.56%\n",
       "      log & fitted corr  +0.18%  -1.88%  -15.31%  -48.45%\n",
       "5     log & no corr      +3.33%  -0.56%  -11.81%   -7.71%\n",
       "      log & sigma2 corr  +4.65%  -0.56%  -13.00%  -25.99%\n",
       "      log & fitted corr  +2.87%  -0.60%  -14.64%  -52.14%\n",
       "6     log & no corr      +2.90%  -1.09%  -13.89%  -26.95%\n",
       "      log & sigma2 corr  +3.96%  -1.09%  -13.86%  -41.26%\n",
       "      log & fitted corr  +2.22%  -1.23%  -16.28%  -52.09%\n",
       "7     log & no corr      +1.92%  -1.41%  -13.40%  -15.14%\n",
       "      log & sigma2 corr  +3.28%  -1.41%  -13.88%  -31.76%\n",
       "      log & fitted corr  +1.44%  -1.46%  -15.96%  -48.84%\n",
       "8     log & no corr      +3.18%  -0.93%  -12.80%  -11.09%\n",
       "      log & sigma2 corr  +4.49%  -0.93%  -12.31%  -28.96%\n",
       "      log & fitted corr  +2.55%  -1.08%  -15.00%  -49.02%\n",
       "9     log & no corr      +3.21%  -0.68%  -12.75%   -9.07%\n",
       "      log & sigma2 corr  +3.40%  -0.68%  -12.59%  -26.41%\n",
       "      log & fitted corr  +2.30%  -0.86%  -14.93%  -44.94%"
      ]
     },
     "execution_count": 45,
     "metadata": {},
     "output_type": "execute_result"
    }
   ],
   "source": [
    "rel_df.applymap(lambda x: f\"{x:+.2%}\")"
   ]
  },
  {
   "cell_type": "code",
   "execution_count": 46,
   "metadata": {},
   "outputs": [],
   "source": [
    "total_rel_df = rel_df.reset_index().groupby('target', sort=False)[METRICS].agg(['mean', 'std'])\n",
    "for col_idx in total_rel_df.columns:\n",
    "    if col_idx[1] == 'mean':\n",
    "        fmt = lambda x: f\"{x:+.2%}\"\n",
    "    else:\n",
    "        fmt = lambda x: f\"±{x:.2%}p\"\n",
    "    total_rel_df[col_idx] = total_rel_df[col_idx].apply(fmt)"
   ]
  },
  {
   "cell_type": "code",
   "execution_count": 47,
   "metadata": {},
   "outputs": [
    {
     "data": {
      "text/html": [
       "<div>\n",
       "<style scoped>\n",
       "    .dataframe tbody tr th:only-of-type {\n",
       "        vertical-align: middle;\n",
       "    }\n",
       "\n",
       "    .dataframe tbody tr th {\n",
       "        vertical-align: top;\n",
       "    }\n",
       "\n",
       "    .dataframe thead tr th {\n",
       "        text-align: left;\n",
       "    }\n",
       "\n",
       "    .dataframe thead tr:last-of-type th {\n",
       "        text-align: right;\n",
       "    }\n",
       "</style>\n",
       "<table border=\"1\" class=\"dataframe\">\n",
       "  <thead>\n",
       "    <tr>\n",
       "      <th></th>\n",
       "      <th colspan=\"2\" halign=\"left\">rmse</th>\n",
       "      <th colspan=\"2\" halign=\"left\">mae</th>\n",
       "      <th colspan=\"2\" halign=\"left\">mape</th>\n",
       "      <th colspan=\"2\" halign=\"left\">rmspe</th>\n",
       "    </tr>\n",
       "    <tr>\n",
       "      <th></th>\n",
       "      <th>mean</th>\n",
       "      <th>std</th>\n",
       "      <th>mean</th>\n",
       "      <th>std</th>\n",
       "      <th>mean</th>\n",
       "      <th>std</th>\n",
       "      <th>mean</th>\n",
       "      <th>std</th>\n",
       "    </tr>\n",
       "    <tr>\n",
       "      <th>target</th>\n",
       "      <th></th>\n",
       "      <th></th>\n",
       "      <th></th>\n",
       "      <th></th>\n",
       "      <th></th>\n",
       "      <th></th>\n",
       "      <th></th>\n",
       "      <th></th>\n",
       "    </tr>\n",
       "  </thead>\n",
       "  <tbody>\n",
       "    <tr>\n",
       "      <th>log &amp; no corr</th>\n",
       "      <td>+2.83%</td>\n",
       "      <td>±0.87%p</td>\n",
       "      <td>-1.08%</td>\n",
       "      <td>±0.39%p</td>\n",
       "      <td>-13.08%</td>\n",
       "      <td>±0.65%p</td>\n",
       "      <td>-13.87%</td>\n",
       "      <td>±5.47%p</td>\n",
       "    </tr>\n",
       "    <tr>\n",
       "      <th>log &amp; sigma2 corr</th>\n",
       "      <td>+3.81%</td>\n",
       "      <td>±0.80%p</td>\n",
       "      <td>-1.08%</td>\n",
       "      <td>±0.39%p</td>\n",
       "      <td>-13.22%</td>\n",
       "      <td>±0.76%p</td>\n",
       "      <td>-30.72%</td>\n",
       "      <td>±4.41%p</td>\n",
       "    </tr>\n",
       "    <tr>\n",
       "      <th>log &amp; fitted corr</th>\n",
       "      <td>+2.17%</td>\n",
       "      <td>±0.83%p</td>\n",
       "      <td>-1.22%</td>\n",
       "      <td>±0.40%p</td>\n",
       "      <td>-15.46%</td>\n",
       "      <td>±0.65%p</td>\n",
       "      <td>-48.54%</td>\n",
       "      <td>±3.49%p</td>\n",
       "    </tr>\n",
       "  </tbody>\n",
       "</table>\n",
       "</div>"
      ],
      "text/plain": [
       "                     rmse              mae              mape           \\\n",
       "                     mean      std    mean      std     mean      std   \n",
       "target                                                                  \n",
       "log & no corr      +2.83%  ±0.87%p  -1.08%  ±0.39%p  -13.08%  ±0.65%p   \n",
       "log & sigma2 corr  +3.81%  ±0.80%p  -1.08%  ±0.39%p  -13.22%  ±0.76%p   \n",
       "log & fitted corr  +2.17%  ±0.83%p  -1.22%  ±0.40%p  -15.46%  ±0.65%p   \n",
       "\n",
       "                     rmspe           \n",
       "                      mean      std  \n",
       "target                               \n",
       "log & no corr      -13.87%  ±5.47%p  \n",
       "log & sigma2 corr  -30.72%  ±4.41%p  \n",
       "log & fitted corr  -48.54%  ±3.49%p  "
      ]
     },
     "execution_count": 47,
     "metadata": {},
     "output_type": "execute_result"
    }
   ],
   "source": [
    "total_rel_df"
   ]
  },
  {
   "cell_type": "code",
   "execution_count": null,
   "metadata": {},
   "outputs": [],
   "source": []
  }
 ],
 "metadata": {
  "kernelspec": {
   "display_name": "Python 3",
   "language": "python",
   "name": "python3"
  },
  "language_info": {
   "codemirror_mode": {
    "name": "ipython",
    "version": 3
   },
   "file_extension": ".py",
   "mimetype": "text/x-python",
   "name": "python",
   "nbconvert_exporter": "python",
   "pygments_lexer": "ipython3",
   "version": "3.7.3"
  },
  "pycharm": {
   "stem_cell": {
    "cell_type": "raw",
    "metadata": {
     "collapsed": false
    },
    "source": []
   }
  }
 },
 "nbformat": 4,
 "nbformat_minor": 4
}
